{
 "cells": [
  {
   "cell_type": "code",
   "execution_count": 23,
   "id": "initial_id",
   "metadata": {
    "collapsed": true,
    "ExecuteTime": {
     "end_time": "2024-04-19T02:27:50.289193Z",
     "start_time": "2024-04-19T02:27:50.281800Z"
    }
   },
   "outputs": [
    {
     "data": {
      "text/plain": "FloatText(value=1000.0, description='Daily Rate:', style=DescriptionStyle(description_width='initial'))",
      "application/vnd.jupyter.widget-view+json": {
       "version_major": 2,
       "version_minor": 0,
       "model_id": "e109639f8c8d4c2f9cf15edde8a63b1b"
      }
     },
     "metadata": {},
     "output_type": "display_data"
    },
    {
     "data": {
      "text/plain": "FloatText(value=180000.0, description='Salary:', style=DescriptionStyle(description_width='initial'))",
      "application/vnd.jupyter.widget-view+json": {
       "version_major": 2,
       "version_minor": 0,
       "model_id": "875884f8538b4cf6a0509b5d10b9d647"
      }
     },
     "metadata": {},
     "output_type": "display_data"
    },
    {
     "data": {
      "text/plain": "Button(description='Calculate Finances', style=ButtonStyle())",
      "application/vnd.jupyter.widget-view+json": {
       "version_major": 2,
       "version_minor": 0,
       "model_id": "8cd96a49dee541d29629aec96fa8b6b6"
      }
     },
     "metadata": {},
     "output_type": "display_data"
    },
    {
     "data": {
      "text/plain": "Output()",
      "application/vnd.jupyter.widget-view+json": {
       "version_major": 2,
       "version_minor": 0,
       "model_id": "238e5db2ed6a4f5c90563947e256f943"
      }
     },
     "metadata": {},
     "output_type": "display_data"
    }
   ],
   "source": [
    "from main import main\n",
    "import pandas as pd\n",
    "import ipywidgets as widgets\n",
    "from IPython.display import display\n",
    "\n",
    "# Create widgets for user input\n",
    "daily_rate_input = widgets.FloatText(\n",
    "    value=1000,\n",
    "    description='Daily Rate:',\n",
    "    style={'description_width': 'initial'}\n",
    ")\n",
    "\n",
    "salary_input = widgets.FloatText(\n",
    "    value=180000,\n",
    "    description='Salary:',\n",
    "    style={'description_width': 'initial'}\n",
    ")\n",
    "\n",
    "# Button to trigger computation\n",
    "calculate_button = widgets.Button(\n",
    "    description='Calculate Finances'\n",
    ")\n",
    "\n",
    "# Output widget to display results\n",
    "output = widgets.Output()\n",
    "\n",
    "# Function to handle button click\n",
    "def on_calculate_clicked(b):\n",
    "    daily_rate = daily_rate_input.value\n",
    "    salary = salary_input.value\n",
    "\n",
    "    # Assume `calculate_finances` is the function that integrates your previous code\n",
    "    # This function needs to be defined to use `daily_rate` and `salary` to perform calculations\n",
    "    result = main(daily_rate, salary)\n",
    "\n",
    "    # Display results in output widget\n",
    "    with output:\n",
    "        output.clear_output()\n",
    "        print(result)\n",
    "        \n",
    "\n",
    "calculate_button.on_click(on_calculate_clicked)\n",
    "\n",
    "# Layout the widgets\n",
    "display(daily_rate_input, salary_input, calculate_button, output)\n"
   ]
  },
  {
   "cell_type": "code",
   "outputs": [
    {
     "data": {
      "text/plain": "FloatText(value=1000.0, description='Daily Rate:', style=DescriptionStyle(description_width='initial'))",
      "application/vnd.jupyter.widget-view+json": {
       "version_major": 2,
       "version_minor": 0,
       "model_id": "375675bb290248b0851d44503deb08a2"
      }
     },
     "metadata": {},
     "output_type": "display_data"
    },
    {
     "data": {
      "text/plain": "FloatText(value=180000.0, description='Salary:', style=DescriptionStyle(description_width='initial'))",
      "application/vnd.jupyter.widget-view+json": {
       "version_major": 2,
       "version_minor": 0,
       "model_id": "598a4292de704c1e917d1baad4aca4af"
      }
     },
     "metadata": {},
     "output_type": "display_data"
    },
    {
     "data": {
      "text/plain": "Button(description='Calculate Finances', style=ButtonStyle())",
      "application/vnd.jupyter.widget-view+json": {
       "version_major": 2,
       "version_minor": 0,
       "model_id": "124546839f1e40bea84888329b081a0e"
      }
     },
     "metadata": {},
     "output_type": "display_data"
    },
    {
     "data": {
      "text/plain": "Output()",
      "application/vnd.jupyter.widget-view+json": {
       "version_major": 2,
       "version_minor": 0,
       "model_id": "14d9caf7c07a4343903b2984a9f5b082"
      }
     },
     "metadata": {},
     "output_type": "display_data"
    }
   ],
   "source": [
    "from main import main\n",
    "import pandas as pd\n",
    "import ipywidgets as widgets\n",
    "from IPython.display import display\n",
    "\n",
    "# Create widgets for user input\n",
    "daily_rate_input = widgets.FloatText(\n",
    "    value=1000,\n",
    "    description='Daily Rate:',\n",
    "    style={'description_width': 'initial'}\n",
    ")\n",
    "\n",
    "salary_input = widgets.FloatText(\n",
    "    value=180000,\n",
    "    description='Salary:',\n",
    "    style={'description_width': 'initial'}\n",
    ")\n",
    "\n",
    "# Button to trigger computation\n",
    "calculate_button = widgets.Button(\n",
    "    description='Calculate Finances'\n",
    ")\n",
    "\n",
    "# Output widget to display results\n",
    "output = widgets.Output()\n",
    "\n",
    "# Function to handle button click\n",
    "def on_calculate_clicked(b):\n",
    "    daily_rate = daily_rate_input.value\n",
    "    salary = salary_input.value\n",
    "\n",
    "    # Calculate finances using the main function\n",
    "    df = main(daily_rate, salary)\n",
    "\n",
    "    # Display results in output widget using display() from IPython.display\n",
    "    with output:\n",
    "        output.clear_output()\n",
    "        display(df)  # This uses IPython.display.display to show the DataFrame\n",
    "\n",
    "calculate_button.on_click(on_calculate_clicked)\n",
    "\n",
    "# Layout the widgets\n",
    "display(daily_rate_input, salary_input, calculate_button, output)\n"
   ],
   "metadata": {
    "collapsed": false,
    "ExecuteTime": {
     "end_time": "2024-04-19T05:22:57.983329Z",
     "start_time": "2024-04-19T05:22:57.977359Z"
    }
   },
   "id": "ed9218cb4557fd69",
   "execution_count": 32
  },
  {
   "cell_type": "code",
   "outputs": [
    {
     "ename": "TypeError",
     "evalue": "register() missing 1 required positional argument: 'widget'",
     "output_type": "error",
     "traceback": [
      "\u001B[0;31m---------------------------------------------------------------------------\u001B[0m",
      "\u001B[0;31mTypeError\u001B[0m                                 Traceback (most recent call last)",
      "Cell \u001B[0;32mIn[33], line 5\u001B[0m\n\u001B[1;32m      3\u001B[0m \u001B[38;5;28;01mimport\u001B[39;00m \u001B[38;5;21;01mipywidgets\u001B[39;00m \u001B[38;5;28;01mas\u001B[39;00m \u001B[38;5;21;01mwidgets\u001B[39;00m\n\u001B[1;32m      4\u001B[0m \u001B[38;5;28;01mfrom\u001B[39;00m \u001B[38;5;21;01mIPython\u001B[39;00m\u001B[38;5;21;01m.\u001B[39;00m\u001B[38;5;21;01mdisplay\u001B[39;00m \u001B[38;5;28;01mimport\u001B[39;00m display\n\u001B[0;32m----> 5\u001B[0m \u001B[38;5;28;01mimport\u001B[39;00m \u001B[38;5;21;01mqgrid\u001B[39;00m  \u001B[38;5;66;03m# Make sure qgrid is imported\u001B[39;00m\n\u001B[1;32m      7\u001B[0m \u001B[38;5;66;03m# Create widgets for user input\u001B[39;00m\n\u001B[1;32m      8\u001B[0m daily_rate_input \u001B[38;5;241m=\u001B[39m widgets\u001B[38;5;241m.\u001B[39mFloatText(\n\u001B[1;32m      9\u001B[0m     value\u001B[38;5;241m=\u001B[39m\u001B[38;5;241m1000\u001B[39m,\n\u001B[1;32m     10\u001B[0m     description\u001B[38;5;241m=\u001B[39m\u001B[38;5;124m'\u001B[39m\u001B[38;5;124mDaily Rate:\u001B[39m\u001B[38;5;124m'\u001B[39m,\n\u001B[1;32m     11\u001B[0m     style\u001B[38;5;241m=\u001B[39m{\u001B[38;5;124m'\u001B[39m\u001B[38;5;124mdescription_width\u001B[39m\u001B[38;5;124m'\u001B[39m: \u001B[38;5;124m'\u001B[39m\u001B[38;5;124minitial\u001B[39m\u001B[38;5;124m'\u001B[39m}\n\u001B[1;32m     12\u001B[0m )\n",
      "File \u001B[0;32m~/miniconda3/envs/tax_calculator/lib/python3.11/site-packages/qgrid/__init__.py:3\u001B[0m\n\u001B[1;32m      1\u001B[0m \u001B[38;5;28;01mfrom\u001B[39;00m \u001B[38;5;21;01m.\u001B[39;00m\u001B[38;5;21;01m_version\u001B[39;00m \u001B[38;5;28;01mimport\u001B[39;00m version_info, __version__  \u001B[38;5;66;03m# noqa F401\u001B[39;00m\n\u001B[0;32m----> 3\u001B[0m \u001B[38;5;28;01mfrom\u001B[39;00m \u001B[38;5;21;01m.\u001B[39;00m\u001B[38;5;21;01mgrid\u001B[39;00m \u001B[38;5;28;01mimport\u001B[39;00m (\n\u001B[1;32m      4\u001B[0m     enable,\n\u001B[1;32m      5\u001B[0m     disable,\n\u001B[1;32m      6\u001B[0m     set_defaults,\n\u001B[1;32m      7\u001B[0m     on,\n\u001B[1;32m      8\u001B[0m     off,\n\u001B[1;32m      9\u001B[0m     set_grid_option,\n\u001B[1;32m     10\u001B[0m     show_grid,\n\u001B[1;32m     11\u001B[0m     QgridWidget,\n\u001B[1;32m     12\u001B[0m     QGridWidget,\n\u001B[1;32m     13\u001B[0m )\n\u001B[1;32m     16\u001B[0m \u001B[38;5;28;01mdef\u001B[39;00m \u001B[38;5;21m_jupyter_nbextension_paths\u001B[39m():\n\u001B[1;32m     17\u001B[0m     \u001B[38;5;28;01mreturn\u001B[39;00m [\n\u001B[1;32m     18\u001B[0m         {\n\u001B[1;32m     19\u001B[0m             \u001B[38;5;124m\"\u001B[39m\u001B[38;5;124msection\u001B[39m\u001B[38;5;124m\"\u001B[39m: \u001B[38;5;124m\"\u001B[39m\u001B[38;5;124mnotebook\u001B[39m\u001B[38;5;124m\"\u001B[39m,\n\u001B[0;32m   (...)\u001B[0m\n\u001B[1;32m     23\u001B[0m         }\n\u001B[1;32m     24\u001B[0m     ]\n",
      "File \u001B[0;32m~/miniconda3/envs/tax_calculator/lib/python3.11/site-packages/qgrid/grid.py:524\u001B[0m\n\u001B[1;32m    520\u001B[0m     \u001B[38;5;28;01melse\u001B[39;00m:\n\u001B[1;32m    521\u001B[0m         \u001B[38;5;28;01mreturn\u001B[39;00m \u001B[38;5;28mstr\u001B[39m(x)\n\u001B[0;32m--> 524\u001B[0m \u001B[38;5;129m@widgets\u001B[39m\u001B[38;5;241;43m.\u001B[39;49m\u001B[43mregister\u001B[49m\u001B[43m(\u001B[49m\u001B[43m)\u001B[49m\n\u001B[1;32m    525\u001B[0m \u001B[38;5;28;01mclass\u001B[39;00m \u001B[38;5;21;01mQgridWidget\u001B[39;00m(widgets\u001B[38;5;241m.\u001B[39mDOMWidget):\n\u001B[1;32m    526\u001B[0m \u001B[38;5;250m    \u001B[39m\u001B[38;5;124;03m\"\"\"\u001B[39;00m\n\u001B[1;32m    527\u001B[0m \u001B[38;5;124;03m    The widget class which is instantiated by the ``show_grid`` method. This\u001B[39;00m\n\u001B[1;32m    528\u001B[0m \u001B[38;5;124;03m    class can be constructed directly but that's not recommended because\u001B[39;00m\n\u001B[0;32m   (...)\u001B[0m\n\u001B[1;32m    562\u001B[0m \n\u001B[1;32m    563\u001B[0m \u001B[38;5;124;03m    \"\"\"\u001B[39;00m\n\u001B[1;32m    565\u001B[0m     _view_name \u001B[38;5;241m=\u001B[39m Unicode(\u001B[38;5;124m'\u001B[39m\u001B[38;5;124mQgridView\u001B[39m\u001B[38;5;124m'\u001B[39m)\u001B[38;5;241m.\u001B[39mtag(sync\u001B[38;5;241m=\u001B[39m\u001B[38;5;28;01mTrue\u001B[39;00m)\n",
      "\u001B[0;31mTypeError\u001B[0m: register() missing 1 required positional argument: 'widget'"
     ]
    }
   ],
   "source": [
    "from main import main\n",
    "import pandas as pd\n",
    "import ipywidgets as widgets\n",
    "from IPython.display import display\n",
    "import qgrid  # Make sure qgrid is imported\n",
    "\n",
    "# Create widgets for user input\n",
    "daily_rate_input = widgets.FloatText(\n",
    "    value=1000,\n",
    "    description='Daily Rate:',\n",
    "    style={'description_width': 'initial'}\n",
    ")\n",
    "\n",
    "salary_input = widgets.FloatText(\n",
    "    value=180000,\n",
    "    description='Salary:',\n",
    "    style={'description_width': 'initial'}\n",
    ")\n",
    "\n",
    "# Button to trigger computation\n",
    "calculate_button = widgets.Button(\n",
    "    description='Calculate Finances'\n",
    ")\n",
    "\n",
    "# Output widget to display results\n",
    "output = widgets.Output()\n",
    "\n",
    "# Function to handle button click\n",
    "def on_calculate_clicked(b):\n",
    "    daily_rate = daily_rate_input.value\n",
    "    salary = salary_input.value\n",
    "\n",
    "    # Calculate finances using the main function\n",
    "    df = main(daily_rate, salary)\n",
    "\n",
    "    # Create a QGrid widget from the DataFrame\n",
    "    qgrid_widget = qgrid.show_grid(df, show_toolbar=True)\n",
    "\n",
    "    # Display results in output widget using QGrid\n",
    "    with output:\n",
    "        output.clear_output()\n",
    "        display(qgrid_widget)\n",
    "\n",
    "calculate_button.on_click(on_calculate_clicked)\n",
    "\n",
    "# Layout the widgets\n",
    "display(daily_rate_input, salary_input, calculate_button, output)\n"
   ],
   "metadata": {
    "collapsed": false,
    "ExecuteTime": {
     "end_time": "2024-04-19T05:24:01.919856Z",
     "start_time": "2024-04-19T05:24:01.861542Z"
    }
   },
   "id": "4d58808cfd2372a2",
   "execution_count": 33
  },
  {
   "cell_type": "code",
   "outputs": [],
   "source": [],
   "metadata": {
    "collapsed": false
   },
   "id": "3599f0395364435"
  }
 ],
 "metadata": {
  "kernelspec": {
   "display_name": "Python 3",
   "language": "python",
   "name": "python3"
  },
  "language_info": {
   "codemirror_mode": {
    "name": "ipython",
    "version": 2
   },
   "file_extension": ".py",
   "mimetype": "text/x-python",
   "name": "python",
   "nbconvert_exporter": "python",
   "pygments_lexer": "ipython2",
   "version": "2.7.6"
  }
 },
 "nbformat": 4,
 "nbformat_minor": 5
}
